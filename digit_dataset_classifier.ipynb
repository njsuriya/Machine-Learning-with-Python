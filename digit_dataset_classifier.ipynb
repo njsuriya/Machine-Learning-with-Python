{
  "nbformat": 4,
  "nbformat_minor": 0,
  "metadata": {
    "colab": {
      "provenance": [],
      "authorship_tag": "ABX9TyOIcgPddo6vOw3KePq8JZsz",
      "include_colab_link": true
    },
    "kernelspec": {
      "name": "python3",
      "display_name": "Python 3"
    },
    "language_info": {
      "name": "python"
    }
  },
  "cells": [
    {
      "cell_type": "markdown",
      "metadata": {
        "id": "view-in-github",
        "colab_type": "text"
      },
      "source": [
        "<a href=\"https://colab.research.google.com/github/njsuriya/Machine-Learning-with-Python/blob/master/digit_dataset_classifier.ipynb\" target=\"_parent\"><img src=\"https://colab.research.google.com/assets/colab-badge.svg\" alt=\"Open In Colab\"/></a>"
      ]
    },
    {
      "cell_type": "code",
      "execution_count": 3,
      "metadata": {
        "id": "a09Qp4r7eyAS"
      },
      "outputs": [],
      "source": [
        "from sklearn import datasets\n",
        "import pandas as pd\n",
        "from sklearn.svm import SVC,LinearSVC,NuSVC\n",
        "from sklearn.model_selection import train_test_split\n",
        "from sklearn.metrics import accuracy_score"
      ]
    },
    {
      "cell_type": "code",
      "source": [
        "digits = datasets.load_digits()\n",
        "digit_df = pd.DataFrame(digits.data,columns=digits.feature_names)\n",
        "digit_df['number'] = digits.target"
      ],
      "metadata": {
        "id": "lA0TehhyfDcH"
      },
      "execution_count": 4,
      "outputs": []
    },
    {
      "cell_type": "code",
      "source": [
        "i_features = digit_df.drop(['number'],axis='columns')\n",
        "o_feature = digit_df['number']\n",
        "x_train,x_test,y_train,y_test = train_test_split(i_features,o_feature,test_size=0.25)"
      ],
      "metadata": {
        "id": "6OCDnDfbfX8q"
      },
      "execution_count": 36,
      "outputs": []
    },
    {
      "cell_type": "code",
      "source": [
        "clf_svc = SVC().fit(x_train,y_train).score(x_test,y_test)\n",
        "clf_svc"
      ],
      "metadata": {
        "colab": {
          "base_uri": "https://localhost:8080/"
        },
        "id": "nxlBpsxgfShV",
        "outputId": "f56b27f3-eb2c-4330-ade4-1db03f661d22"
      },
      "execution_count": 37,
      "outputs": [
        {
          "output_type": "execute_result",
          "data": {
            "text/plain": [
              "0.9911111111111112"
            ]
          },
          "metadata": {},
          "execution_count": 37
        }
      ]
    },
    {
      "cell_type": "code",
      "source": [
        "clf_linearsvc = LinearSVC().fit(x_train,y_train).score(x_test,y_test)\n",
        "clf_linearsvc"
      ],
      "metadata": {
        "colab": {
          "base_uri": "https://localhost:8080/"
        },
        "id": "QYuGx63wg1hV",
        "outputId": "7e2df1d3-7ffd-4e86-dca5-2a903a73a56c"
      },
      "execution_count": 38,
      "outputs": [
        {
          "output_type": "stream",
          "name": "stderr",
          "text": [
            "/usr/local/lib/python3.7/dist-packages/sklearn/svm/_base.py:1208: ConvergenceWarning: Liblinear failed to converge, increase the number of iterations.\n",
            "  ConvergenceWarning,\n"
          ]
        },
        {
          "output_type": "execute_result",
          "data": {
            "text/plain": [
              "0.9533333333333334"
            ]
          },
          "metadata": {},
          "execution_count": 38
        }
      ]
    },
    {
      "cell_type": "code",
      "source": [
        "clf_NuSVC = NuSVC().fit(x_train,y_train).score(x_test,y_test)\n",
        "clf_NuSVC"
      ],
      "metadata": {
        "colab": {
          "base_uri": "https://localhost:8080/"
        },
        "id": "d8ajFDTYg5r3",
        "outputId": "a9d093f8-a2df-425e-da8a-2794082aaec9"
      },
      "execution_count": 39,
      "outputs": [
        {
          "output_type": "execute_result",
          "data": {
            "text/plain": [
              "0.9733333333333334"
            ]
          },
          "metadata": {},
          "execution_count": 39
        }
      ]
    },
    {
      "cell_type": "code",
      "source": [
        "clf_svc = SVC().fit(i_features,o_feature).score(x_test,y_test)\n",
        "clf_svc"
      ],
      "metadata": {
        "colab": {
          "base_uri": "https://localhost:8080/"
        },
        "id": "IRY3yOYbiprt",
        "outputId": "21b7032a-c818-4d00-f272-71a4f2ba9ab4"
      },
      "execution_count": 28,
      "outputs": [
        {
          "output_type": "execute_result",
          "data": {
            "text/plain": [
              "0.9972183588317107"
            ]
          },
          "metadata": {},
          "execution_count": 28
        }
      ]
    },
    {
      "cell_type": "code",
      "source": [
        "#NuSVC has no arugument C i.e, penalty\n",
        "\n",
        "C_penalty_param = [1,10,100,1000]\n",
        "for penalty in C_penalty_param:\n",
        "  models_with_reqularisation = [SVC(C=penalty).fit(x_train,y_train).score(x_test,y_test),\n",
        "          LinearSVC(C=penalty).fit(x_train,y_train).score(x_test,y_test)]\n",
        "  print(models_with_reqularisation)"
      ],
      "metadata": {
        "colab": {
          "base_uri": "https://localhost:8080/"
        },
        "id": "lARupaZqkEUH",
        "outputId": "812cd0f6-f452-4c68-93fa-c915c56d9041"
      },
      "execution_count": 46,
      "outputs": [
        {
          "output_type": "stream",
          "name": "stderr",
          "text": [
            "/usr/local/lib/python3.7/dist-packages/sklearn/svm/_base.py:1208: ConvergenceWarning: Liblinear failed to converge, increase the number of iterations.\n",
            "  ConvergenceWarning,\n"
          ]
        },
        {
          "output_type": "stream",
          "name": "stdout",
          "text": [
            "[0.9911111111111112, 0.9511111111111111]\n"
          ]
        },
        {
          "output_type": "stream",
          "name": "stderr",
          "text": [
            "/usr/local/lib/python3.7/dist-packages/sklearn/svm/_base.py:1208: ConvergenceWarning: Liblinear failed to converge, increase the number of iterations.\n",
            "  ConvergenceWarning,\n"
          ]
        },
        {
          "output_type": "stream",
          "name": "stdout",
          "text": [
            "[0.9911111111111112, 0.96]\n"
          ]
        },
        {
          "output_type": "stream",
          "name": "stderr",
          "text": [
            "/usr/local/lib/python3.7/dist-packages/sklearn/svm/_base.py:1208: ConvergenceWarning: Liblinear failed to converge, increase the number of iterations.\n",
            "  ConvergenceWarning,\n"
          ]
        },
        {
          "output_type": "stream",
          "name": "stdout",
          "text": [
            "[0.9911111111111112, 0.9511111111111111]\n",
            "[0.9911111111111112, 0.9511111111111111]\n"
          ]
        },
        {
          "output_type": "stream",
          "name": "stderr",
          "text": [
            "/usr/local/lib/python3.7/dist-packages/sklearn/svm/_base.py:1208: ConvergenceWarning: Liblinear failed to converge, increase the number of iterations.\n",
            "  ConvergenceWarning,\n"
          ]
        }
      ]
    },
    {
      "cell_type": "code",
      "source": [
        "#LinearSVC has no arugument gamma \n",
        "\n",
        "gamma_param = ['scale',0.0001,0.1,0.10,100.01]\n",
        "for gamma_value in gamma_param:\n",
        "  SVC_clf = SVC(gamma=gamma_value).fit(x_train,y_train).score(x_test,y_test)\n",
        "  NuSVC_clf = NuSVC(gamma=gamma_value).fit(x_train,y_train).score(x_test,y_test)\n",
        "  models_with_gamma = [SVC_clf,NuSVC_clf]\n",
        "  print(models_with_gamma)\n",
        "  print(len(SVC(gamma=gamma_value).fit(x_train,y_train).support_vectors_),len(NuSVC(gamma=gamma_value).fit(x_train,y_train).support_vectors_))"
      ],
      "metadata": {
        "colab": {
          "base_uri": "https://localhost:8080/"
        },
        "id": "8q-ubTMpkHpj",
        "outputId": "ed8906a8-f597-4416-ced7-5afcf2fc8747"
      },
      "execution_count": 67,
      "outputs": [
        {
          "output_type": "stream",
          "name": "stdout",
          "text": [
            "[0.9911111111111112, 0.9733333333333334]\n",
            "623 1131\n",
            "[0.9733333333333334, 0.9511111111111111]\n",
            "808 1203\n",
            "[0.06444444444444444, 0.06444444444444444]\n",
            "1347 1347\n",
            "[0.06444444444444444, 0.06444444444444444]\n",
            "1347 1347\n",
            "[0.06444444444444444, 0.06444444444444444]\n",
            "1347 1347\n"
          ]
        }
      ]
    },
    {
      "cell_type": "code",
      "source": [
        "kernels = ['linear','rbf','poly']\n",
        "\n",
        "for clf_kernel in kernels:\n",
        "  if clf_kernel==\"poly\":\n",
        "    degrees = [3,6,10]\n",
        "    for degree in degrees:\n",
        "       models_with_kernel = [SVC(kernel=clf_kernel,degree=degree).fit(x_train,y_train).score(x_test,y_test),\n",
        "                       NuSVC(kernel=clf_kernel,degree=degree).fit(x_train,y_train).score(x_test,y_test),\n",
        "                       LinearSVC().fit(x_train,y_train).score(x_test,y_test)]\n",
        "       print(models_with_kernel)\n",
        "  else:\n",
        "    models_with_kernel = [SVC(kernel=clf_kernel).fit(x_train,y_train).score(x_test,y_test),\n",
        "                       NuSVC(kernel=clf_kernel).fit(x_train,y_train).score(x_test,y_test),\n",
        "                       LinearSVC().fit(x_train,y_train).score(x_test,y_test)]\n",
        "    print(models_with_kernel)"
      ],
      "metadata": {
        "colab": {
          "base_uri": "https://localhost:8080/"
        },
        "id": "Wwab9mEikKRK",
        "outputId": "bcbacb4e-700c-4bc1-ddfb-d8102b47d754"
      },
      "execution_count": 60,
      "outputs": [
        {
          "output_type": "stream",
          "name": "stderr",
          "text": [
            "/usr/local/lib/python3.7/dist-packages/sklearn/svm/_base.py:1208: ConvergenceWarning: Liblinear failed to converge, increase the number of iterations.\n",
            "  ConvergenceWarning,\n"
          ]
        },
        {
          "output_type": "stream",
          "name": "stdout",
          "text": [
            "[0.98, 0.9466666666666667, 0.9511111111111111]\n"
          ]
        },
        {
          "output_type": "stream",
          "name": "stderr",
          "text": [
            "/usr/local/lib/python3.7/dist-packages/sklearn/svm/_base.py:1208: ConvergenceWarning: Liblinear failed to converge, increase the number of iterations.\n",
            "  ConvergenceWarning,\n"
          ]
        },
        {
          "output_type": "stream",
          "name": "stdout",
          "text": [
            "[0.9911111111111112, 0.9733333333333334, 0.9311111111111111]\n"
          ]
        },
        {
          "output_type": "stream",
          "name": "stderr",
          "text": [
            "/usr/local/lib/python3.7/dist-packages/sklearn/svm/_base.py:1208: ConvergenceWarning: Liblinear failed to converge, increase the number of iterations.\n",
            "  ConvergenceWarning,\n"
          ]
        },
        {
          "output_type": "stream",
          "name": "stdout",
          "text": [
            "[0.9911111111111112, 0.96, 0.9488888888888889]\n"
          ]
        },
        {
          "output_type": "stream",
          "name": "stderr",
          "text": [
            "/usr/local/lib/python3.7/dist-packages/sklearn/svm/_base.py:1208: ConvergenceWarning: Liblinear failed to converge, increase the number of iterations.\n",
            "  ConvergenceWarning,\n"
          ]
        },
        {
          "output_type": "stream",
          "name": "stdout",
          "text": [
            "[0.9822222222222222, 0.9644444444444444, 0.9533333333333334]\n",
            "[0.9644444444444444, 0.9066666666666666, 0.9333333333333333]\n"
          ]
        },
        {
          "output_type": "stream",
          "name": "stderr",
          "text": [
            "/usr/local/lib/python3.7/dist-packages/sklearn/svm/_base.py:1208: ConvergenceWarning: Liblinear failed to converge, increase the number of iterations.\n",
            "  ConvergenceWarning,\n"
          ]
        }
      ]
    }
  ]
}